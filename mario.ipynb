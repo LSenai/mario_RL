{
 "cells": [
  {
   "cell_type": "markdown",
   "id": "da7f29c8",
   "metadata": {},
   "source": [
    "# Practicing Gym and RL\n",
    "I'm a bit new to the world of RL and want to practice using the gym library and do something fun! Today we'll be training an agent how to play (and hopefully beat Super Mario Bros). \n",
    "\n",
    "I'll be taking notes as I go, so apologies in advance for using a blend of present/past/future tense as I'll be both thinking and reflecting :D \n",
    "\n",
    "Some documentation to reference: \n",
    "* Gym documentation: https://gymnasium.farama.org/api/env/#gymnasium.Env.step\n",
    "* SMB env documentation: https://pypi.org/project/gym-super-mario-bros/"
   ]
  },
  {
   "cell_type": "markdown",
   "id": "ea8187c0",
   "metadata": {},
   "source": [
    "## 1. Set up Environment\n",
    "This will be a little tricky as the gym library has updated since the super mario bros (SMB) gym environment was made. I had to toy around a bit with some things to get it to work. More specifically, the latest env.step method returns back **5** elements _(obs, reward, terminated, **truncated**, info)_ instead of the 4 that the SMB environment was coded for. Truncated is new, so I added that and updated done accordingly:\n",
    "```\n",
    "done = terminated or truncated\n",
    "```\n",
    "\n",
    "I also got a warning that smb v0 is outdated, and to use v3. "
   ]
  },
  {
   "cell_type": "code",
   "execution_count": 10,
   "id": "1bb92450-aae7-4115-a459-398d7e84523c",
   "metadata": {},
   "outputs": [
    {
     "name": "stdout",
     "output_type": "stream",
     "text": [
      "Requirement already satisfied: gym_super_mario_bros==7.3.0 in c:\\python312\\lib\\site-packages (7.3.0)\n",
      "Requirement already satisfied: nes_py in c:\\python312\\lib\\site-packages (8.2.1)\n",
      "Requirement already satisfied: gym>=0.17.2 in c:\\python312\\lib\\site-packages (from nes_py) (0.26.2)\n",
      "Requirement already satisfied: numpy>=1.18.5 in c:\\python312\\lib\\site-packages (from nes_py) (1.26.3)\n",
      "Requirement already satisfied: pyglet<=1.5.21,>=1.4.0 in c:\\python312\\lib\\site-packages (from nes_py) (1.5.21)\n",
      "Requirement already satisfied: tqdm>=4.48.2 in c:\\python312\\lib\\site-packages (from nes_py) (4.66.2)\n",
      "Requirement already satisfied: cloudpickle>=1.2.0 in c:\\python312\\lib\\site-packages (from gym>=0.17.2->nes_py) (3.0.0)\n",
      "Requirement already satisfied: gym-notices>=0.0.4 in c:\\python312\\lib\\site-packages (from gym>=0.17.2->nes_py) (0.0.8)\n",
      "Requirement already satisfied: colorama in c:\\python312\\lib\\site-packages (from tqdm>=4.48.2->nes_py) (0.4.6)\n"
     ]
    }
   ],
   "source": [
    "!pip install gym_super_mario_bros==7.3.0 nes_py"
   ]
  },
  {
   "cell_type": "code",
   "execution_count": 1,
   "id": "58389772-0717-4516-b050-53b38f5979b0",
   "metadata": {},
   "outputs": [],
   "source": [
    "# Import the game\n",
    "import gym_super_mario_bros\n",
    "# Import joypad wrapper\n",
    "from nes_py.wrappers import JoypadSpace\n",
    "# Import controls\n",
    "from gym_super_mario_bros.actions import SIMPLE_MOVEMENT"
   ]
  },
  {
   "cell_type": "code",
   "execution_count": 2,
   "id": "09d947bf-210c-42b1-8e63-d17fd5761001",
   "metadata": {},
   "outputs": [
    {
     "name": "stderr",
     "output_type": "stream",
     "text": [
      "c:\\Python312\\Lib\\site-packages\\gym\\envs\\registration.py:555: UserWarning: \u001b[33mWARN: The environment SuperMarioBros-v0 is out of date. You should consider upgrading to version `v3`.\u001b[0m\n",
      "  logger.warn(\n",
      "c:\\Python312\\Lib\\site-packages\\gym\\envs\\registration.py:627: UserWarning: \u001b[33mWARN: The environment creator metadata doesn't include `render_modes`, contains: ['render.modes', 'video.frames_per_second']\u001b[0m\n",
      "  logger.warn(\n"
     ]
    }
   ],
   "source": [
    "# # Start the environment - turn on the game :) \n",
    "# # to see the game, turn display to True\n",
    "env = gym_super_mario_bros.make('SuperMarioBros-v0', apply_api_compatibility=True, render_mode='human')\n",
    "env = JoypadSpace(env, SIMPLE_MOVEMENT) # pass the controls to the game into the environment.\n",
    "# # this is called wrapping the environment. if we don't do this, the game will have a default control scheme that has a lot more actions than would be useful for us."
   ]
  },
  {
   "cell_type": "code",
   "execution_count": 3,
   "id": "90ae1508",
   "metadata": {},
   "outputs": [
    {
     "data": {
      "text/plain": [
       "(240, 256, 3)"
      ]
     },
     "execution_count": 3,
     "metadata": {},
     "output_type": "execute_result"
    }
   ],
   "source": [
    "# run this to see movement options\n",
    "# SIMPLE_MOVEMENT\n",
    "\n",
    "# run this to see the observation space - 240 x 256 pixels with 3 color channels. Effectively a frame of the game.\n",
    "env.observation_space.shape"
   ]
  },
  {
   "cell_type": "markdown",
   "id": "e55d27ef",
   "metadata": {},
   "source": [
    "Running env.step is like passing through an action in our game. For now -- the parameter we're passing in is just taking a random action"
   ]
  },
  {
   "cell_type": "code",
   "execution_count": 3,
   "id": "7c19d7ba",
   "metadata": {},
   "outputs": [
    {
     "name": "stderr",
     "output_type": "stream",
     "text": [
      "c:\\Python312\\Lib\\site-packages\\gym\\utils\\passive_env_checker.py:233: DeprecationWarning: `np.bool8` is a deprecated alias for `np.bool_`.  (Deprecated NumPy 1.24)\n",
      "  if not isinstance(terminated, (bool, np.bool8)):\n",
      "c:\\Python312\\Lib\\site-packages\\gym\\utils\\passive_env_checker.py:272: UserWarning: \u001b[33mWARN: No render modes was declared in the environment (env.metadata['render_modes'] is None or not defined), you may have trouble when calling `.render()`.\u001b[0m\n",
      "  logger.warn(\n",
      "c:\\Python312\\Lib\\site-packages\\gym_super_mario_bros\\smb_env.py:148: RuntimeWarning: overflow encountered in scalar subtract\n",
      "  return (self.ram[0x86] - self.ram[0x071c]) % 256\n"
     ]
    }
   ],
   "source": [
    "# Create a flag - restart or not\n",
    "done = True\n",
    "for step in range(5000):\n",
    "    if done:\n",
    "        state = env.reset()\n",
    "    obs, reward, terminated, truncated, info = env.step(env.action_space.sample())\n",
    "    done = terminated or truncated\n",
    "    env.render()\n",
    "\n",
    "# env.close()"
   ]
  },
  {
   "cell_type": "code",
   "execution_count": 4,
   "id": "9ec623b7",
   "metadata": {},
   "outputs": [],
   "source": [
    "env.close()"
   ]
  },
  {
   "cell_type": "markdown",
   "id": "a564affd",
   "metadata": {},
   "source": [
    "## 2. Preprocess Environment\n",
    "Two key game data pre-processing steps will  be implemented:\n",
    "1. **Gray-scaling:** color image uses RGB values -- cutting it down to grayscale cuts down the data required to process. Our Mario doesn't see color. \n",
    "2. **Frame-stacking:** stacking consecutive frames gives our model *context* or memory. We can develop a sense of velocity, trajectory, etc. by using even a relatively small set of frames. I think this will effectively be like remembering what happened at timestep n-1 through n-(size of frame stack). "
   ]
  },
  {
   "cell_type": "markdown",
   "id": "4b20de19",
   "metadata": {},
   "source": [
    "#### 2.1 Import some more things to allow preprocessing"
   ]
  },
  {
   "cell_type": "code",
   "execution_count": 4,
   "id": "3933d446",
   "metadata": {},
   "outputs": [
    {
     "name": "stdout",
     "output_type": "stream",
     "text": [
      "I'm working\n"
     ]
    }
   ],
   "source": [
    "from gym.wrappers import GrayScaleObservation\n",
    "from stable_baselines3.common.vec_env import VecFrameStack, DummyVecEnv\n",
    "from matplotlib import pyplot as plt\n",
    "print(\"I'm working\")"
   ]
  },
  {
   "cell_type": "code",
   "execution_count": 5,
   "id": "893ff7b1",
   "metadata": {},
   "outputs": [
    {
     "name": "stderr",
     "output_type": "stream",
     "text": [
      "c:\\Python312\\Lib\\site-packages\\gym\\envs\\registration.py:555: UserWarning: \u001b[33mWARN: The environment SuperMarioBros-v0 is out of date. You should consider upgrading to version `v3`.\u001b[0m\n",
      "  logger.warn(\n",
      "c:\\Python312\\Lib\\site-packages\\stable_baselines3\\common\\vec_env\\patch_gym.py:49: UserWarning: You provided an OpenAI Gym environment. We strongly recommend transitioning to Gymnasium environments. Stable-Baselines3 is automatically wrapping your environments in a compatibility layer, which could potentially cause issues.\n",
      "  warnings.warn(\n"
     ]
    }
   ],
   "source": [
    "# from gym import Wrapper\n",
    "\n",
    "# the joypad space wrapper was interfering with some of the other wrappers. \n",
    "# class CustomJoypadSpace(Wrapper):\n",
    "#     def __init__(self, env, actions):\n",
    "#         super().__init__(env)\n",
    "#         self.actions = actions\n",
    "\n",
    "#     def step(self, action):\n",
    "#         return self.env.step(self.actions[action])\n",
    "\n",
    "# Create base environment\n",
    "env = gym_super_mario_bros.make('SuperMarioBros-v0', apply_api_compatibility=True, render_mode=None)\n",
    "# Simplify the action space\n",
    "env = JoypadSpace(env, SIMPLE_MOVEMENT)   \n",
    "\n",
    "# Apply Wrappers - grayscale, dummy environment, and frame stack\n",
    "env = GrayScaleObservation(env, keep_dim=True)\n",
    "env = DummyVecEnv([lambda: env])\n",
    "env = VecFrameStack(env, 4, channels_order='last')\n"
   ]
  },
  {
   "cell_type": "code",
   "execution_count": 46,
   "id": "d425edee",
   "metadata": {},
   "outputs": [],
   "source": [
    "state = env.reset()"
   ]
  },
  {
   "cell_type": "code",
   "execution_count": 10,
   "id": "ad9b3c7e",
   "metadata": {},
   "outputs": [
    {
     "name": "stdout",
     "output_type": "stream",
     "text": [
      "(1, 240, 256, 4)\n"
     ]
    },
    {
     "data": {
      "text/plain": [
       "Discrete(7)"
      ]
     },
     "execution_count": 10,
     "metadata": {},
     "output_type": "execute_result"
    }
   ],
   "source": [
    "print(state.shape)\n",
    "env.action_space\n"
   ]
  },
  {
   "cell_type": "code",
   "execution_count": 62,
   "id": "f64812ad",
   "metadata": {},
   "outputs": [],
   "source": [
    "state, reward, terminated, info = env.step([env.action_space.sample()])"
   ]
  },
  {
   "cell_type": "code",
   "execution_count": 44,
   "id": "be4e2bc7",
   "metadata": {},
   "outputs": [
    {
     "data": {
      "text/plain": [
       "<matplotlib.image.AxesImage at 0x1f3c88584a0>"
      ]
     },
     "execution_count": 44,
     "metadata": {},
     "output_type": "execute_result"
    },
    {
     "data": {
      "image/png": "[encoded data removed]",
      "text/plain": [
       "<Figure size 640x480 with 1 Axes>"
      ]
     },
     "metadata": {},
     "output_type": "display_data"
    }
   ],
   "source": [
    "plt.imshow(state[0])"
   ]
  },
  {
   "cell_type": "code",
   "execution_count": 63,
   "id": "c19dbc72",
   "metadata": {},
   "outputs": [
    {
     "data": {
      "image/png": "[encoded data removed]",
      "text/plain": [
       "<Figure size 1000x800 with 4 Axes>"
      ]
     },
     "metadata": {},
     "output_type": "display_data"
    }
   ],
   "source": [
    "plt.figure(figsize=(10,8))\n",
    "for i in range(state.shape[3]):\n",
    "    plt.subplot(1, 4, i+1)\n",
    "    plt.imshow(state[0, :, :, i])\n",
    "plt.show()"
   ]
  },
  {
   "cell_type": "markdown",
   "id": "6e05ebad",
   "metadata": {},
   "source": [
    "## 3. Train the RL Model\n",
    "We'll be relying on the PPO algorithm. A callback allows you to 'backup' what our agent is learning"
   ]
  },
  {
   "cell_type": "code",
   "execution_count": 6,
   "id": "30a1032a",
   "metadata": {},
   "outputs": [],
   "source": [
    "# import dependencies for the model\n",
    "import os # for file path management\n",
    "# import PPO\n",
    "from stable_baselines3 import PPO\n",
    "# import base callback for saving models\n",
    "from stable_baselines3.common.callbacks import BaseCallback"
   ]
  },
  {
   "cell_type": "code",
   "execution_count": 7,
   "id": "2917c5a8",
   "metadata": {},
   "outputs": [],
   "source": [
    "class TrainAndLoggingCallback(BaseCallback):\n",
    "\n",
    "    def __init__(self, check_freq, save_path, verbose=1):\n",
    "        super(TrainAndLoggingCallback, self).__init__(verbose)\n",
    "        self.check_freq = check_freq\n",
    "        self.save_path = save_path\n",
    "    \n",
    "    def _init_callback(self):\n",
    "        if self.save_path is not None:\n",
    "            os.makedirs(self.save_path, exist_ok=True)\n",
    "\n",
    "    def _on_step(self):\n",
    "        if self.n_calls % self.check_freq == 0:\n",
    "            model_path = os.path.join(self.save_path, 'best_model_{}'.format(self.n_calls))\n",
    "            self.model.save(model_path)\n",
    "\n",
    "        return True"
   ]
  },
  {
   "cell_type": "code",
   "execution_count": 8,
   "id": "f01fae49",
   "metadata": {},
   "outputs": [],
   "source": [
    "CHECKPOINT_DIR = './train/'\n",
    "LOG_DIR = './logs/'"
   ]
  },
  {
   "cell_type": "code",
   "execution_count": 9,
   "id": "91604b71",
   "metadata": {},
   "outputs": [],
   "source": [
    "# Setup model saving callback -- save the model every 10,000 steps\n",
    "callback = TrainAndLoggingCallback(check_freq=10000, save_path=CHECKPOINT_DIR)"
   ]
  },
  {
   "cell_type": "code",
   "execution_count": 10,
   "id": "0b04ce2e",
   "metadata": {},
   "outputs": [
    {
     "name": "stdout",
     "output_type": "stream",
     "text": [
      "Using cpu device\n",
      "Wrapping the env in a VecTransposeImage.\n"
     ]
    }
   ],
   "source": [
    "# Set up our PPO model\n",
    "model = PPO(\"CnnPolicy\", env, verbose=1, tensorboard_log=LOG_DIR, learning_rate=0.000001, n_steps=512)"
   ]
  },
  {
   "cell_type": "code",
   "execution_count": 11,
   "id": "259cc9a6",
   "metadata": {},
   "outputs": [
    {
     "name": "stdout",
     "output_type": "stream",
     "text": [
      "Requirement already satisfied: tensorboard in c:\\python312\\lib\\site-packages (2.16.2)Note: you may need to restart the kernel to use updated packages.\n",
      "\n",
      "Requirement already satisfied: absl-py>=0.4 in c:\\python312\\lib\\site-packages (from tensorboard) (2.1.0)\n",
      "Requirement already satisfied: grpcio>=1.48.2 in c:\\python312\\lib\\site-packages (from tensorboard) (1.62.1)\n",
      "Requirement already satisfied: markdown>=2.6.8 in c:\\python312\\lib\\site-packages (from tensorboard) (3.5.2)\n",
      "Requirement already satisfied: numpy>=1.12.0 in c:\\python312\\lib\\site-packages (from tensorboard) (1.26.3)\n",
      "Requirement already satisfied: protobuf!=4.24.0,>=3.19.6 in c:\\python312\\lib\\site-packages (from tensorboard) (4.25.3)\n",
      "Requirement already satisfied: setuptools>=41.0.0 in c:\\python312\\lib\\site-packages (from tensorboard) (65.5.0)\n",
      "Requirement already satisfied: six>1.9 in c:\\users\\lsena\\appdata\\roaming\\python\\python312\\site-packages (from tensorboard) (1.16.0)\n",
      "Requirement already satisfied: tensorboard-data-server<0.8.0,>=0.7.0 in c:\\python312\\lib\\site-packages (from tensorboard) (0.7.2)\n",
      "Requirement already satisfied: werkzeug>=1.0.1 in c:\\python312\\lib\\site-packages (from tensorboard) (3.0.1)\n",
      "Requirement already satisfied: MarkupSafe>=2.1.1 in c:\\python312\\lib\\site-packages (from werkzeug>=1.0.1->tensorboard) (2.1.5)\n"
     ]
    }
   ],
   "source": [
    "%pip install tensorboard"
   ]
  },
  {
   "cell_type": "code",
   "execution_count": 12,
   "id": "9c76692a",
   "metadata": {},
   "outputs": [
    {
     "name": "stdout",
     "output_type": "stream",
     "text": [
      "Logging to ./logs/PPO_1\n"
     ]
    },
    {
     "name": "stderr",
     "output_type": "stream",
     "text": [
      "c:\\Python312\\Lib\\site-packages\\gym\\utils\\passive_env_checker.py:233: DeprecationWarning: `np.bool8` is a deprecated alias for `np.bool_`.  (Deprecated NumPy 1.24)\n",
      "  if not isinstance(terminated, (bool, np.bool8)):\n",
      "c:\\Python312\\Lib\\site-packages\\gym_super_mario_bros\\smb_env.py:148: RuntimeWarning: overflow encountered in scalar subtract\n",
      "  return (self.ram[0x86] - self.ram[0x071c]) % 256\n"
     ]
    },
    {
     "name": "stdout",
     "output_type": "stream",
     "text": [
      "----------------------------\n",
      "| time/              |     |\n",
      "|    fps             | 61  |\n",
      "|    iterations      | 1   |\n",
      "|    time_elapsed    | 8   |\n",
      "|    total_timesteps | 512 |\n",
      "----------------------------\n",
      "------------------------------------------\n",
      "| time/                   |              |\n",
      "|    fps                  | 10           |\n",
      "|    iterations           | 2            |\n",
      "|    time_elapsed         | 101          |\n",
      "|    total_timesteps      | 1024         |\n",
      "| train/                  |              |\n",
      "|    approx_kl            | 8.281902e-06 |\n",
      "|    clip_fraction        | 0            |\n",
      "|    clip_range           | 0.2          |\n",
      "|    entropy_loss         | -1.95        |\n",
      "|    explained_variance   | -0.000473    |\n",
      "|    learning_rate        | 1e-06        |\n",
      "|    loss                 | 148          |\n",
      "|    n_updates            | 10           |\n",
      "|    policy_gradient_loss | -0.000293    |\n",
      "|    value_loss           | 385          |\n",
      "------------------------------------------\n",
      "-------------------------------------------\n",
      "| time/                   |               |\n",
      "|    fps                  | 8             |\n",
      "|    iterations           | 3             |\n",
      "|    time_elapsed         | 183           |\n",
      "|    total_timesteps      | 1536          |\n",
      "| train/                  |               |\n",
      "|    approx_kl            | 2.8009876e-05 |\n",
      "|    clip_fraction        | 0             |\n",
      "|    clip_range           | 0.2           |\n",
      "|    entropy_loss         | -1.95         |\n",
      "|    explained_variance   | -0.00186      |\n",
      "|    learning_rate        | 1e-06         |\n",
      "|    loss                 | 101           |\n",
      "|    n_updates            | 20            |\n",
      "|    policy_gradient_loss | -0.000331     |\n",
      "|    value_loss           | 179           |\n",
      "-------------------------------------------\n",
      "-------------------------------------------\n",
      "| time/                   |               |\n",
      "|    fps                  | 7             |\n",
      "|    iterations           | 4             |\n",
      "|    time_elapsed         | 272           |\n",
      "|    total_timesteps      | 2048          |\n",
      "| train/                  |               |\n",
      "|    approx_kl            | 2.5580754e-05 |\n",
      "|    clip_fraction        | 0             |\n",
      "|    clip_range           | 0.2           |\n",
      "|    entropy_loss         | -1.95         |\n",
      "|    explained_variance   | 0.00423       |\n",
      "|    learning_rate        | 1e-06         |\n",
      "|    loss                 | 49.7          |\n",
      "|    n_updates            | 30            |\n",
      "|    policy_gradient_loss | -0.000128     |\n",
      "|    value_loss           | 91.8          |\n",
      "-------------------------------------------\n",
      "------------------------------------------\n",
      "| time/                   |              |\n",
      "|    fps                  | 6            |\n",
      "|    iterations           | 5            |\n",
      "|    time_elapsed         | 367          |\n",
      "|    total_timesteps      | 2560         |\n",
      "| train/                  |              |\n",
      "|    approx_kl            | 6.227195e-05 |\n",
      "|    clip_fraction        | 0            |\n",
      "|    clip_range           | 0.2          |\n",
      "|    entropy_loss         | -1.95        |\n",
      "|    explained_variance   | 0.0823       |\n",
      "|    learning_rate        | 1e-06        |\n",
      "|    loss                 | 0.219        |\n",
      "|    n_updates            | 40           |\n",
      "|    policy_gradient_loss | -0.000364    |\n",
      "|    value_loss           | 2.48         |\n",
      "------------------------------------------\n",
      "-------------------------------------------\n",
      "| time/                   |               |\n",
      "|    fps                  | 6             |\n",
      "|    iterations           | 6             |\n",
      "|    time_elapsed         | 464           |\n",
      "|    total_timesteps      | 3072          |\n",
      "| train/                  |               |\n",
      "|    approx_kl            | 6.5501314e-05 |\n",
      "|    clip_fraction        | 0             |\n",
      "|    clip_range           | 0.2           |\n",
      "|    entropy_loss         | -1.95         |\n",
      "|    explained_variance   | -0.00935      |\n",
      "|    learning_rate        | 1e-06         |\n",
      "|    loss                 | 0.157         |\n",
      "|    n_updates            | 50            |\n",
      "|    policy_gradient_loss | -0.000629     |\n",
      "|    value_loss           | 1.41          |\n",
      "-------------------------------------------\n",
      "-------------------------------------------\n",
      "| time/                   |               |\n",
      "|    fps                  | 6             |\n",
      "|    iterations           | 7             |\n",
      "|    time_elapsed         | 555           |\n",
      "|    total_timesteps      | 3584          |\n",
      "| train/                  |               |\n",
      "|    approx_kl            | 1.5135272e-05 |\n",
      "|    clip_fraction        | 0             |\n",
      "|    clip_range           | 0.2           |\n",
      "|    entropy_loss         | -1.95         |\n",
      "|    explained_variance   | -0.0156       |\n",
      "|    learning_rate        | 1e-06         |\n",
      "|    loss                 | 0.108         |\n",
      "|    n_updates            | 60            |\n",
      "|    policy_gradient_loss | -0.000102     |\n",
      "|    value_loss           | 0.907         |\n",
      "-------------------------------------------\n",
      "------------------------------------------\n",
      "| time/                   |              |\n",
      "|    fps                  | 6            |\n",
      "|    iterations           | 8            |\n",
      "|    time_elapsed         | 635          |\n",
      "|    total_timesteps      | 4096         |\n",
      "| train/                  |              |\n",
      "|    approx_kl            | 9.328593e-06 |\n",
      "|    clip_fraction        | 0            |\n",
      "|    clip_range           | 0.2          |\n",
      "|    entropy_loss         | -1.95        |\n",
      "|    explained_variance   | 0.00404      |\n",
      "|    learning_rate        | 1e-06        |\n",
      "|    loss                 | 0.0862       |\n",
      "|    n_updates            | 70           |\n",
      "|    policy_gradient_loss | -7.84e-05    |\n",
      "|    value_loss           | 0.611        |\n",
      "------------------------------------------\n",
      "-------------------------------------------\n",
      "| time/                   |               |\n",
      "|    fps                  | 6             |\n",
      "|    iterations           | 9             |\n",
      "|    time_elapsed         | 711           |\n",
      "|    total_timesteps      | 4608          |\n",
      "| train/                  |               |\n",
      "|    approx_kl            | 1.0695192e-05 |\n",
      "|    clip_fraction        | 0             |\n",
      "|    clip_range           | 0.2           |\n",
      "|    entropy_loss         | -1.95         |\n",
      "|    explained_variance   | -0.00983      |\n",
      "|    learning_rate        | 1e-06         |\n",
      "|    loss                 | 0.0778        |\n",
      "|    n_updates            | 80            |\n",
      "|    policy_gradient_loss | -0.000162     |\n",
      "|    value_loss           | 0.542         |\n",
      "-------------------------------------------\n",
      "-------------------------------------------\n",
      "| time/                   |               |\n",
      "|    fps                  | 6             |\n",
      "|    iterations           | 10            |\n",
      "|    time_elapsed         | 792           |\n",
      "|    total_timesteps      | 5120          |\n",
      "| train/                  |               |\n",
      "|    approx_kl            | 1.5838887e-05 |\n",
      "|    clip_fraction        | 0             |\n",
      "|    clip_range           | 0.2           |\n",
      "|    entropy_loss         | -1.95         |\n",
      "|    explained_variance   | -0.011        |\n",
      "|    learning_rate        | 1e-06         |\n",
      "|    loss                 | 0.0986        |\n",
      "|    n_updates            | 90            |\n",
      "|    policy_gradient_loss | -0.000328     |\n",
      "|    value_loss           | 0.44          |\n",
      "-------------------------------------------\n",
      "-------------------------------------------\n",
      "| time/                   |               |\n",
      "|    fps                  | 6             |\n",
      "|    iterations           | 11            |\n",
      "|    time_elapsed         | 876           |\n",
      "|    total_timesteps      | 5632          |\n",
      "| train/                  |               |\n",
      "|    approx_kl            | 6.9678063e-06 |\n",
      "|    clip_fraction        | 0             |\n",
      "|    clip_range           | 0.2           |\n",
      "|    entropy_loss         | -1.95         |\n",
      "|    explained_variance   | -0.0017       |\n",
      "|    learning_rate        | 1e-06         |\n",
      "|    loss                 | 0.258         |\n",
      "|    n_updates            | 100           |\n",
      "|    policy_gradient_loss | -7.47e-05     |\n",
      "|    value_loss           | 0.687         |\n",
      "-------------------------------------------\n",
      "-------------------------------------------\n",
      "| time/                   |               |\n",
      "|    fps                  | 6             |\n",
      "|    iterations           | 12            |\n",
      "|    time_elapsed         | 963           |\n",
      "|    total_timesteps      | 6144          |\n",
      "| train/                  |               |\n",
      "|    approx_kl            | 5.6478893e-06 |\n",
      "|    clip_fraction        | 0             |\n",
      "|    clip_range           | 0.2           |\n",
      "|    entropy_loss         | -1.95         |\n",
      "|    explained_variance   | -0.00695      |\n",
      "|    learning_rate        | 1e-06         |\n",
      "|    loss                 | 0.062         |\n",
      "|    n_updates            | 110           |\n",
      "|    policy_gradient_loss | -0.000109     |\n",
      "|    value_loss           | 0.267         |\n",
      "-------------------------------------------\n",
      "-------------------------------------------\n",
      "| time/                   |               |\n",
      "|    fps                  | 6             |\n",
      "|    iterations           | 13            |\n",
      "|    time_elapsed         | 1051          |\n",
      "|    total_timesteps      | 6656          |\n",
      "| train/                  |               |\n",
      "|    approx_kl            | 1.0116724e-05 |\n",
      "|    clip_fraction        | 0             |\n",
      "|    clip_range           | 0.2           |\n",
      "|    entropy_loss         | -1.95         |\n",
      "|    explained_variance   | 0.00547       |\n",
      "|    learning_rate        | 1e-06         |\n",
      "|    loss                 | 0.0564        |\n",
      "|    n_updates            | 120           |\n",
      "|    policy_gradient_loss | -0.000194     |\n",
      "|    value_loss           | 0.25          |\n",
      "-------------------------------------------\n",
      "-------------------------------------------\n",
      "| time/                   |               |\n",
      "|    fps                  | 6             |\n",
      "|    iterations           | 14            |\n",
      "|    time_elapsed         | 1139          |\n",
      "|    total_timesteps      | 7168          |\n",
      "| train/                  |               |\n",
      "|    approx_kl            | 6.7624496e-06 |\n",
      "|    clip_fraction        | 0             |\n",
      "|    clip_range           | 0.2           |\n",
      "|    entropy_loss         | -1.95         |\n",
      "|    explained_variance   | -0.00813      |\n",
      "|    learning_rate        | 1e-06         |\n",
      "|    loss                 | 0.223         |\n",
      "|    n_updates            | 130           |\n",
      "|    policy_gradient_loss | -0.000124     |\n",
      "|    value_loss           | 0.36          |\n",
      "-------------------------------------------\n",
      "-------------------------------------------\n",
      "| time/                   |               |\n",
      "|    fps                  | 6             |\n",
      "|    iterations           | 15            |\n",
      "|    time_elapsed         | 1229          |\n",
      "|    total_timesteps      | 7680          |\n",
      "| train/                  |               |\n",
      "|    approx_kl            | 1.5087542e-05 |\n",
      "|    clip_fraction        | 0             |\n",
      "|    clip_range           | 0.2           |\n",
      "|    entropy_loss         | -1.95         |\n",
      "|    explained_variance   | -0.00083      |\n",
      "|    learning_rate        | 1e-06         |\n",
      "|    loss                 | 0.11          |\n",
      "|    n_updates            | 140           |\n",
      "|    policy_gradient_loss | -0.000317     |\n",
      "|    value_loss           | 0.258         |\n",
      "-------------------------------------------\n",
      "-------------------------------------------\n",
      "| time/                   |               |\n",
      "|    fps                  | 6             |\n",
      "|    iterations           | 16            |\n",
      "|    time_elapsed         | 1319          |\n",
      "|    total_timesteps      | 8192          |\n",
      "| train/                  |               |\n",
      "|    approx_kl            | 1.5063793e-05 |\n",
      "|    clip_fraction        | 0             |\n",
      "|    clip_range           | 0.2           |\n",
      "|    entropy_loss         | -1.95         |\n",
      "|    explained_variance   | -0.00343      |\n",
      "|    learning_rate        | 1e-06         |\n",
      "|    loss                 | 0.102         |\n",
      "|    n_updates            | 150           |\n",
      "|    policy_gradient_loss | -0.000286     |\n",
      "|    value_loss           | 0.235         |\n",
      "-------------------------------------------\n",
      "------------------------------------------\n",
      "| time/                   |              |\n",
      "|    fps                  | 6            |\n",
      "|    iterations           | 17           |\n",
      "|    time_elapsed         | 1410         |\n",
      "|    total_timesteps      | 8704         |\n",
      "| train/                  |              |\n",
      "|    approx_kl            | 9.186566e-06 |\n",
      "|    clip_fraction        | 0            |\n",
      "|    clip_range           | 0.2          |\n",
      "|    entropy_loss         | -1.95        |\n",
      "|    explained_variance   | -0.00954     |\n",
      "|    learning_rate        | 1e-06        |\n",
      "|    loss                 | 0.0787       |\n",
      "|    n_updates            | 160          |\n",
      "|    policy_gradient_loss | -0.000147    |\n",
      "|    value_loss           | 0.144        |\n",
      "------------------------------------------\n",
      "------------------------------------------\n",
      "| time/                   |              |\n",
      "|    fps                  | 6            |\n",
      "|    iterations           | 18           |\n",
      "|    time_elapsed         | 1494         |\n",
      "|    total_timesteps      | 9216         |\n",
      "| train/                  |              |\n",
      "|    approx_kl            | 1.148961e-05 |\n",
      "|    clip_fraction        | 0            |\n",
      "|    clip_range           | 0.2          |\n",
      "|    entropy_loss         | -1.95        |\n",
      "|    explained_variance   | 0.0249       |\n",
      "|    learning_rate        | 1e-06        |\n",
      "|    loss                 | 194          |\n",
      "|    n_updates            | 170          |\n",
      "|    policy_gradient_loss | 0.000199     |\n",
      "|    value_loss           | 514          |\n",
      "------------------------------------------\n",
      "------------------------------------------\n",
      "| time/                   |              |\n",
      "|    fps                  | 6            |\n",
      "|    iterations           | 19           |\n",
      "|    time_elapsed         | 1574         |\n",
      "|    total_timesteps      | 9728         |\n",
      "| train/                  |              |\n",
      "|    approx_kl            | 4.084315e-06 |\n",
      "|    clip_fraction        | 0            |\n",
      "|    clip_range           | 0.2          |\n",
      "|    entropy_loss         | -1.95        |\n",
      "|    explained_variance   | 0.0753       |\n",
      "|    learning_rate        | 1e-06        |\n",
      "|    loss                 | 0.557        |\n",
      "|    n_updates            | 180          |\n",
      "|    policy_gradient_loss | -0.000101    |\n",
      "|    value_loss           | 2.09         |\n",
      "------------------------------------------\n",
      "------------------------------------------\n",
      "| time/                   |              |\n",
      "|    fps                  | 6            |\n",
      "|    iterations           | 20           |\n",
      "|    time_elapsed         | 1656         |\n",
      "|    total_timesteps      | 10240        |\n",
      "| train/                  |              |\n",
      "|    approx_kl            | 8.926145e-06 |\n",
      "|    clip_fraction        | 0            |\n",
      "|    clip_range           | 0.2          |\n",
      "|    entropy_loss         | -1.95        |\n",
      "|    explained_variance   | 0.0313       |\n",
      "|    learning_rate        | 1e-06        |\n",
      "|    loss                 | 0.132        |\n",
      "|    n_updates            | 190          |\n",
      "|    policy_gradient_loss | -0.000172    |\n",
      "|    value_loss           | 0.408        |\n",
      "------------------------------------------\n",
      "-------------------------------------------\n",
      "| time/                   |               |\n",
      "|    fps                  | 6             |\n",
      "|    iterations           | 21            |\n",
      "|    time_elapsed         | 1754          |\n",
      "|    total_timesteps      | 10752         |\n",
      "| train/                  |               |\n",
      "|    approx_kl            | 1.1176802e-05 |\n",
      "|    clip_fraction        | 0             |\n",
      "|    clip_range           | 0.2           |\n",
      "|    entropy_loss         | -1.95         |\n",
      "|    explained_variance   | 0.207         |\n",
      "|    learning_rate        | 1e-06         |\n",
      "|    loss                 | 0.099         |\n",
      "|    n_updates            | 200           |\n",
      "|    policy_gradient_loss | -0.000247     |\n",
      "|    value_loss           | 0.28          |\n",
      "-------------------------------------------\n",
      "-------------------------------------------\n",
      "| time/                   |               |\n",
      "|    fps                  | 5             |\n",
      "|    iterations           | 22            |\n",
      "|    time_elapsed         | 1880          |\n",
      "|    total_timesteps      | 11264         |\n",
      "| train/                  |               |\n",
      "|    approx_kl            | 1.1620112e-05 |\n",
      "|    clip_fraction        | 0             |\n",
      "|    clip_range           | 0.2           |\n",
      "|    entropy_loss         | -1.95         |\n",
      "|    explained_variance   | -0.021        |\n",
      "|    learning_rate        | 1e-06         |\n",
      "|    loss                 | 0.153         |\n",
      "|    n_updates            | 210           |\n",
      "|    policy_gradient_loss | -0.000232     |\n",
      "|    value_loss           | 0.385         |\n",
      "-------------------------------------------\n",
      "-------------------------------------------\n",
      "| time/                   |               |\n",
      "|    fps                  | 5             |\n",
      "|    iterations           | 23            |\n",
      "|    time_elapsed         | 2007          |\n",
      "|    total_timesteps      | 11776         |\n",
      "| train/                  |               |\n",
      "|    approx_kl            | 7.5433636e-06 |\n",
      "|    clip_fraction        | 0             |\n",
      "|    clip_range           | 0.2           |\n",
      "|    entropy_loss         | -1.95         |\n",
      "|    explained_variance   | 0.032         |\n",
      "|    learning_rate        | 1e-06         |\n",
      "|    loss                 | 0.129         |\n",
      "|    n_updates            | 220           |\n",
      "|    policy_gradient_loss | -0.000149     |\n",
      "|    value_loss           | 0.254         |\n",
      "-------------------------------------------\n",
      "-------------------------------------------\n",
      "| time/                   |               |\n",
      "|    fps                  | 1             |\n",
      "|    iterations           | 24            |\n",
      "|    time_elapsed         | 9393          |\n",
      "|    total_timesteps      | 12288         |\n",
      "| train/                  |               |\n",
      "|    approx_kl            | 4.4740736e-06 |\n",
      "|    clip_fraction        | 0             |\n",
      "|    clip_range           | 0.2           |\n",
      "|    entropy_loss         | -1.95         |\n",
      "|    explained_variance   | -0.00227      |\n",
      "|    learning_rate        | 1e-06         |\n",
      "|    loss                 | 0.0557        |\n",
      "|    n_updates            | 230           |\n",
      "|    policy_gradient_loss | -8.41e-05     |\n",
      "|    value_loss           | 0.166         |\n",
      "-------------------------------------------\n"
     ]
    }
   ],
   "source": [
    "model.learn(total_timesteps=500000, callback=callback)"
   ]
  },
  {
   "cell_type": "markdown",
   "id": "ff2a6e03",
   "metadata": {},
   "source": [
    "## 4. Test it Out"
   ]
  }
 ],
 "metadata": {
  "kernelspec": {
   "display_name": "Python 3 (ipykernel)",
   "language": "python",
   "name": "python3"
  },
  "language_info": {
   "codemirror_mode": {
    "name": "ipython",
    "version": 3
   },
   "file_extension": ".py",
   "mimetype": "text/x-python",
   "name": "python",
   "nbconvert_exporter": "python",
   "pygments_lexer": "ipython3",
   "version": "3.12.1"
  }
 },
 "nbformat": 4,
 "nbformat_minor": 5
}
